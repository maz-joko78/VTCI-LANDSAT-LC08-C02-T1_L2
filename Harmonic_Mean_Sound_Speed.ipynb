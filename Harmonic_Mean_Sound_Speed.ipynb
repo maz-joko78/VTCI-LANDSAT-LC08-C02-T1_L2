{
  "nbformat": 4,
  "nbformat_minor": 0,
  "metadata": {
    "colab": {
      "provenance": [],
      "authorship_tag": "ABX9TyNQvymDmYiJescBnMMuSVyo",
      "include_colab_link": true
    },
    "kernelspec": {
      "name": "python3",
      "display_name": "Python 3"
    },
    "language_info": {
      "name": "python"
    }
  },
  "cells": [
    {
      "cell_type": "markdown",
      "metadata": {
        "id": "view-in-github",
        "colab_type": "text"
      },
      "source": [
        "<a href=\"https://colab.research.google.com/github/maz-joko78/VTCI-LANDSAT-LC08-C02-T1_L2/blob/main/Harmonic_Mean_Sound_Speed.ipynb\" target=\"_parent\"><img src=\"https://colab.research.google.com/assets/colab-badge.svg\" alt=\"Open In Colab\"/></a>"
      ]
    },
    {
      "cell_type": "code",
      "execution_count": 2,
      "metadata": {
        "colab": {
          "base_uri": "https://localhost:8080/"
        },
        "id": "yjJc3Pdn_A2H",
        "outputId": "595b05f8-fa01-4e32-9184-41c1ecd51ac3"
      },
      "outputs": [
        {
          "output_type": "stream",
          "name": "stdout",
          "text": [
            "Mounted at /content/drive\n"
          ]
        },
        {
          "output_type": "stream",
          "name": "stderr",
          "text": [
            "/tmp/ipython-input-2-615488347.py:13: FutureWarning: The 'delim_whitespace' keyword in pd.read_csv is deprecated and will be removed in a future version. Use ``sep='\\s+'`` instead\n",
            "  df = pd.read_csv(file_path, delim_whitespace=True, names=[\"Index\", \"Depth\", \"Velocity\"])\n"
          ]
        },
        {
          "output_type": "stream",
          "name": "stdout",
          "text": [
            "📊 Hasil Perhitungan Harmonic Mean Sound Speed (CH):\n",
            "- Metode Constant Velocity : 1577.6242 m/s\n",
            "- Metode Constant Gradient : 1561.9876 m/s\n",
            "\n",
            "📉 Standard Deviasi (STDDEV) Kecepatan:\n",
            "- Metode Constant Velocity : 24.8932 m/s\n",
            "- Metode Constant Gradient : 22.0012 m/s\n"
          ]
        }
      ],
      "source": [
        "# 📌 1. Mount Google Drive\n",
        "from google.colab import drive\n",
        "drive.mount('/content/drive')\n",
        "\n",
        "# 📌 2. Baca file dari Google Drive\n",
        "import pandas as pd\n",
        "import numpy as np\n",
        "\n",
        "# Ganti path sesuai lokasi file Anda\n",
        "file_path = \"/content/drive/MyDrive/Data_ADHO/Data_ADHO_SVP.txt\"\n",
        "\n",
        "# Asumsikan file berformat: index depth velocity (tanpa header)\n",
        "df = pd.read_csv(file_path, delim_whitespace=True, names=[\"Index\", \"Depth\", \"Velocity\"])\n",
        "\n",
        "# 📌 3. CONSTANT VELOCITY METHOD\n",
        "df['dz_cv'] = df['Depth'].diff().fillna(0)\n",
        "df['t_cv'] = df['dz_cv'] / df['Velocity']\n",
        "CH_cv = df['dz_cv'].sum() / df['t_cv'].sum()\n",
        "STD_cv = df['Velocity'].std()\n",
        "\n",
        "# 📌 4. CONSTANT GRADIENT METHOD\n",
        "df['C_next'] = df['Velocity'].shift(-1)\n",
        "df['Depth_next'] = df['Depth'].shift(-1)\n",
        "df['dz_cg'] = df['Depth_next'] - df['Depth']\n",
        "df['g'] = (df['C_next'] - df['Velocity']) / df['dz_cg']\n",
        "\n",
        "# Hitung t_i dengan kondisi nilai gradient ≠ 0 dan nilai kecepatan valid\n",
        "df['t_cg'] = np.where(\n",
        "    (df['g'] != 0) & (df['Velocity'] > 0) & (df['C_next'] > 0),\n",
        "    (1 / df['g']) * np.log(df['C_next'] / df['Velocity']),\n",
        "    0\n",
        ")\n",
        "\n",
        "# Ambil hanya nilai t_cg yang valid (>0)\n",
        "valid_cg = df[df['t_cg'] > 0]\n",
        "CH_cg = valid_cg['dz_cg'].sum() / valid_cg['t_cg'].sum()\n",
        "STD_cg = valid_cg['Velocity'].std()\n",
        "\n",
        "# 📌 5. Cetak hasil\n",
        "print(\"📊 Hasil Perhitungan Harmonic Mean Sound Speed (CH):\")\n",
        "print(f\"- Metode Constant Velocity : {CH_cv:.4f} m/s\")\n",
        "print(f\"- Metode Constant Gradient : {CH_cg:.4f} m/s\")\n",
        "print(\"\\n📉 Standard Deviasi (STDDEV) Kecepatan:\")\n",
        "print(f\"- Metode Constant Velocity : {STD_cv:.4f} m/s\")\n",
        "print(f\"- Metode Constant Gradient : {STD_cg:.4f} m/s\")\n"
      ]
    }
  ]
}